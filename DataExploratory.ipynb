{
 "cells": [
  {
   "cell_type": "markdown",
   "metadata": {
    "collapsed": true,
    "pycharm": {
     "name": "#%% md\n"
    }
   },
   "source": [
    "# Data Exploratory: Wine"
   ]
  },
  {
   "cell_type": "markdown",
   "source": [
    "### Dependencies\n",
    "Uncomment the cell below if your enviroment does not have the packages used installed."
   ],
   "metadata": {
    "collapsed": false,
    "pycharm": {
     "name": "#%% md\n"
    }
   }
  },
  {
   "cell_type": "code",
   "source": [
    "# %pip install pandas\n",
    "# %pip install sklearn\n",
    "# %pip install matplotlib\n",
    "# %pip install seaborn\n",
    "# %pip install numpy"
   ],
   "metadata": {
    "collapsed": false,
    "pycharm": {
     "name": "#%%\n"
    }
   },
   "execution_count": 1,
   "outputs": []
  },
  {
   "cell_type": "code",
   "execution_count": 2,
   "outputs": [],
   "source": [
    "import pandas as pd\n",
    "import matplotlib.pyplot as plt\n",
    "import seaborn as sns\n",
    "import numpy as np\n",
    "# Set seabor theme\n",
    "sns.set_theme()"
   ],
   "metadata": {
    "collapsed": false,
    "pycharm": {
     "name": "#%%\n"
    }
   }
  },
  {
   "cell_type": "markdown",
   "source": [
    "### Load dataset"
   ],
   "metadata": {
    "collapsed": false,
    "pycharm": {
     "name": "#%% md\n"
    }
   }
  },
  {
   "cell_type": "code",
   "execution_count": 3,
   "outputs": [],
   "source": [
    "# load data\n",
    "from sklearn.datasets import load_wine\n",
    "X, y = load_wine(return_X_y=True, as_frame=True)"
   ],
   "metadata": {
    "collapsed": false,
    "pycharm": {
     "name": "#%%\n"
    }
   }
  },
  {
   "cell_type": "markdown",
   "source": [
    "##### Take a look at the features ($X$) and the targets ($y$)"
   ],
   "metadata": {
    "collapsed": false,
    "pycharm": {
     "name": "#%% md\n"
    }
   }
  },
  {
   "cell_type": "code",
   "execution_count": 4,
   "outputs": [
    {
     "data": {
      "text/plain": "   alcohol  malic_acid   ash  alcalinity_of_ash  magnesium  total_phenols  \\\n0    14.23        1.71  2.43               15.6      127.0           2.80   \n1    13.20        1.78  2.14               11.2      100.0           2.65   \n2    13.16        2.36  2.67               18.6      101.0           2.80   \n3    14.37        1.95  2.50               16.8      113.0           3.85   \n4    13.24        2.59  2.87               21.0      118.0           2.80   \n\n   flavanoids  nonflavanoid_phenols  proanthocyanins  color_intensity   hue  \\\n0        3.06                  0.28             2.29             5.64  1.04   \n1        2.76                  0.26             1.28             4.38  1.05   \n2        3.24                  0.30             2.81             5.68  1.03   \n3        3.49                  0.24             2.18             7.80  0.86   \n4        2.69                  0.39             1.82             4.32  1.04   \n\n   od280/od315_of_diluted_wines  proline  \n0                          3.92   1065.0  \n1                          3.40   1050.0  \n2                          3.17   1185.0  \n3                          3.45   1480.0  \n4                          2.93    735.0  ",
      "text/html": "<div>\n<style scoped>\n    .dataframe tbody tr th:only-of-type {\n        vertical-align: middle;\n    }\n\n    .dataframe tbody tr th {\n        vertical-align: top;\n    }\n\n    .dataframe thead th {\n        text-align: right;\n    }\n</style>\n<table border=\"1\" class=\"dataframe\">\n  <thead>\n    <tr style=\"text-align: right;\">\n      <th></th>\n      <th>alcohol</th>\n      <th>malic_acid</th>\n      <th>ash</th>\n      <th>alcalinity_of_ash</th>\n      <th>magnesium</th>\n      <th>total_phenols</th>\n      <th>flavanoids</th>\n      <th>nonflavanoid_phenols</th>\n      <th>proanthocyanins</th>\n      <th>color_intensity</th>\n      <th>hue</th>\n      <th>od280/od315_of_diluted_wines</th>\n      <th>proline</th>\n    </tr>\n  </thead>\n  <tbody>\n    <tr>\n      <th>0</th>\n      <td>14.23</td>\n      <td>1.71</td>\n      <td>2.43</td>\n      <td>15.6</td>\n      <td>127.0</td>\n      <td>2.80</td>\n      <td>3.06</td>\n      <td>0.28</td>\n      <td>2.29</td>\n      <td>5.64</td>\n      <td>1.04</td>\n      <td>3.92</td>\n      <td>1065.0</td>\n    </tr>\n    <tr>\n      <th>1</th>\n      <td>13.20</td>\n      <td>1.78</td>\n      <td>2.14</td>\n      <td>11.2</td>\n      <td>100.0</td>\n      <td>2.65</td>\n      <td>2.76</td>\n      <td>0.26</td>\n      <td>1.28</td>\n      <td>4.38</td>\n      <td>1.05</td>\n      <td>3.40</td>\n      <td>1050.0</td>\n    </tr>\n    <tr>\n      <th>2</th>\n      <td>13.16</td>\n      <td>2.36</td>\n      <td>2.67</td>\n      <td>18.6</td>\n      <td>101.0</td>\n      <td>2.80</td>\n      <td>3.24</td>\n      <td>0.30</td>\n      <td>2.81</td>\n      <td>5.68</td>\n      <td>1.03</td>\n      <td>3.17</td>\n      <td>1185.0</td>\n    </tr>\n    <tr>\n      <th>3</th>\n      <td>14.37</td>\n      <td>1.95</td>\n      <td>2.50</td>\n      <td>16.8</td>\n      <td>113.0</td>\n      <td>3.85</td>\n      <td>3.49</td>\n      <td>0.24</td>\n      <td>2.18</td>\n      <td>7.80</td>\n      <td>0.86</td>\n      <td>3.45</td>\n      <td>1480.0</td>\n    </tr>\n    <tr>\n      <th>4</th>\n      <td>13.24</td>\n      <td>2.59</td>\n      <td>2.87</td>\n      <td>21.0</td>\n      <td>118.0</td>\n      <td>2.80</td>\n      <td>2.69</td>\n      <td>0.39</td>\n      <td>1.82</td>\n      <td>4.32</td>\n      <td>1.04</td>\n      <td>2.93</td>\n      <td>735.0</td>\n    </tr>\n  </tbody>\n</table>\n</div>"
     },
     "execution_count": 4,
     "metadata": {},
     "output_type": "execute_result"
    }
   ],
   "source": [
    "X.head()"
   ],
   "metadata": {
    "collapsed": false,
    "pycharm": {
     "name": "#%%\n"
    }
   }
  },
  {
   "cell_type": "code",
   "execution_count": 5,
   "outputs": [
    {
     "data": {
      "text/plain": "0    0\n1    0\n2    0\n3    0\n4    0\nName: target, dtype: int64"
     },
     "execution_count": 5,
     "metadata": {},
     "output_type": "execute_result"
    }
   ],
   "source": [
    "y.head()"
   ],
   "metadata": {
    "collapsed": false,
    "pycharm": {
     "name": "#%%\n"
    }
   }
  },
  {
   "cell_type": "markdown",
   "source": [
    "### Create data varibles that will store the results and scores of the models"
   ],
   "metadata": {
    "collapsed": false,
    "pycharm": {
     "name": "#%% md\n"
    }
   }
  },
  {
   "cell_type": "code",
   "execution_count": 6,
   "outputs": [],
   "source": [
    "results = {\n",
    "    'Método': [],\n",
    "    'Média': [],\n",
    "    'Desvio Padrão': [],\n",
    "    'Limite Inferior': [],\n",
    "    'Limite Superior': []\n",
    "}\n",
    "\n",
    "all_scores = {}"
   ],
   "metadata": {
    "collapsed": false,
    "pycharm": {
     "name": "#%%\n"
    }
   }
  },
  {
   "cell_type": "markdown",
   "source": [
    "### First Step\n",
    "Implemented and test the non parametric models:\n",
    " + *ZeroR (ZR)*\n",
    " + *Gausssian Naive Bayes (GNB)*"
   ],
   "metadata": {
    "collapsed": false,
    "pycharm": {
     "name": "#%% md\n"
    }
   }
  },
  {
   "cell_type": "code",
   "execution_count": 7,
   "outputs": [
    {
     "name": "stdout",
     "output_type": "stream",
     "text": [
      "ZR : \n",
      "0.40 0.02 0.39 0.41 \n",
      "GNB : \n",
      "0.97 0.05 0.96 0.99 \n"
     ]
    }
   ],
   "source": [
    "from sklearn.pipeline import Pipeline\n",
    "from sklearn.preprocessing import StandardScaler\n",
    "from sklearn.model_selection import RepeatedStratifiedKFold, GridSearchCV, cross_val_score\n",
    "from sklearn.naive_bayes import GaussianNB\n",
    "from sklearn.dummy import DummyClassifier\n",
    "from scipy import stats\n",
    "\n",
    "# Given the scores of the models compute some statics about it like\n",
    "# mean, standard deviation and the superior and inferior support\n",
    "def report(scores):\n",
    "    mean = scores.mean()\n",
    "    std = scores.std()\n",
    "    inf, sup = stats.norm.interval(0.95, loc=mean,\n",
    "                                  scale=std/np.sqrt(len(scores)))\n",
    "    return (mean, std, inf, sup)\n",
    "\n",
    "# Create cross val object\n",
    "rpK = RepeatedStratifiedKFold(n_splits=10, n_repeats=3, random_state=36851234)\n",
    "\n",
    "classifiers = [\n",
    "    DummyClassifier(strategy='most_frequent'),\n",
    "    GaussianNB()\n",
    "]\n",
    "\n",
    "name_class = [\n",
    "    'ZR',\n",
    "    'GNB'\n",
    "]\n",
    "\n",
    "# Begin training and test\n",
    "for cls, name in zip(classifiers, name_class):\n",
    "    # Create pipe\n",
    "    steps = [\n",
    "        ('scaler', StandardScaler()),\n",
    "        ('estimator', cls)\n",
    "    ]\n",
    "    pipe = Pipeline(steps)\n",
    "\n",
    "    # Execute the cross validation and prediction\n",
    "    scores = cross_val_score(pipe, X, y, cv=rpK)\n",
    "    all_scores[name] = scores\n",
    "    stats_scores = report(scores)\n",
    "\n",
    "    # Print the report of each classifier\n",
    "    print(f\"{name} : \")\n",
    "    [print(\"{:.2f} \".format(n), end='') for n in stats_scores]\n",
    "    print()\n",
    "\n",
    "    # Update results\n",
    "    results['Método'].append(name)\n",
    "    results['Média'].append(stats_scores[0])\n",
    "    results['Desvio Padrão'].append(stats_scores[1])\n",
    "    results['Limite Inferior'].append(stats_scores[2])\n",
    "    results['Limite Superior'].append(stats_scores[3])\n"
   ],
   "metadata": {
    "collapsed": false,
    "pycharm": {
     "name": "#%%\n"
    }
   }
  },
  {
   "cell_type": "markdown",
   "source": [
    "### Second Step\n",
    "Implemented and test the parametric models:\n",
    " + *K Nearest Neighbors (KNN)*\n",
    " + *Decision Tree (DT)*\n",
    " + *KMeans Centroids (KMC)*"
   ],
   "metadata": {
    "collapsed": false,
    "pycharm": {
     "name": "#%% md\n"
    }
   }
  },
  {
   "cell_type": "markdown",
   "source": [
    "##### Implements the new classifier KMC"
   ],
   "metadata": {
    "collapsed": false,
    "pycharm": {
     "name": "#%% md\n"
    }
   }
  },
  {
   "cell_type": "code",
   "execution_count": 8,
   "outputs": [],
   "source": [
    "from sklearn.base import BaseEstimator, ClassifierMixin\n",
    "from sklearn.cluster import KMeans\n",
    "from sklearn.neighbors import KNeighborsClassifier\n",
    "\n",
    "class KMC(BaseEstimator, ClassifierMixin):\n",
    "\n",
    "    def __init__(self, k=1):\n",
    "        self.k = k\n",
    "        self.centroids = np.array([])\n",
    "        self.cent_labels = np.array([])\n",
    "\n",
    "    # Train step\n",
    "    def fit(self, X, y):\n",
    "        for i, label in enumerate(np.unique(y)):\n",
    "            labelX = X[y == label]  # Find the features of the class i\n",
    "            kmeans = KMeans(n_clusters=self.k, random_state=36851234)\n",
    "            kmeans.fit(labelX)  # Compute the centroids\n",
    "            # Load the centroids found in class attribute\n",
    "            if i == 0:\n",
    "                self.centroids = kmeans.cluster_centers_\n",
    "                self.cent_labels = np.ones(shape=kmeans.cluster_centers_.shape[0]) * label\n",
    "            else:\n",
    "                self.centroids = np.vstack((self.centroids, kmeans.cluster_centers_))\n",
    "                self.cent_labels = np.concatenate((self.cent_labels, np.ones(shape=kmeans.cluster_centers_.shape[0]) * label))\n",
    "\n",
    "    def predict(self, X_test):\n",
    "        # Find the nearest neighbor of X_test relative to the centroid find in train step\n",
    "        knn = KNeighborsClassifier(n_neighbors=1)\n",
    "        knn.fit(self.centroids, self.cent_labels)\n",
    "        return knn.predict(X_test)\n"
   ],
   "metadata": {
    "collapsed": false,
    "pycharm": {
     "name": "#%%\n"
    }
   }
  },
  {
   "cell_type": "markdown",
   "source": [
    "#### Execute the classifiers"
   ],
   "metadata": {
    "collapsed": false,
    "pycharm": {
     "name": "#%% md\n"
    }
   }
  },
  {
   "cell_type": "code",
   "execution_count": 9,
   "outputs": [
    {
     "name": "stdout",
     "output_type": "stream",
     "text": [
      "KNN : \n",
      "0.95 0.06 0.93 0.97 \n",
      "DT : \n",
      "0.90 0.06 0.88 0.93 \n",
      "KMC : \n",
      "0.97 0.05 0.95 0.98 \n"
     ]
    }
   ],
   "source": [
    "from sklearn.neighbors import KNeighborsClassifier\n",
    "from sklearn.tree import DecisionTreeClassifier\n",
    "from sklearn.model_selection import StratifiedKFold\n",
    "# Create genereal objects\n",
    "# ---------------------\n",
    "params = {\n",
    "    'KNN': {'n_neighbors': [1, 3, 5, 7]},\n",
    "    'DT': {'max_depth': [None, 3, 5, 10]},\n",
    "    'KMC': {'k': [1, 3, 5, 7]}\n",
    "}\n",
    "\n",
    "classifiers = [\n",
    "    KNeighborsClassifier(),\n",
    "    DecisionTreeClassifier(),\n",
    "    KMC()\n",
    "]\n",
    "\n",
    "name_class = [\n",
    "    'KNN',\n",
    "    'DT',\n",
    "    'KMC'\n",
    "]\n",
    "\n",
    "# Begin training and test\n",
    "for clf, name in zip(classifiers, name_class):\n",
    "    # Create pipeline\n",
    "    grid_fold = StratifiedKFold(n_splits=4)\n",
    "    gs = GridSearchCV(clf, param_grid=params[name], cv=grid_fold)\n",
    "    steps = [\n",
    "        ('scaler', StandardScaler()),\n",
    "        ('estimator', gs)\n",
    "    ]\n",
    "    pipe = Pipeline(steps)\n",
    "\n",
    "    # Execute cross validation with prediction\n",
    "    scores = cross_val_score(pipe, X, y, cv=rpK)\n",
    "    all_scores[name] = scores\n",
    "    stats_scores = report(scores) # Compute the report\n",
    "\n",
    "    # Print the stats report\n",
    "    print(f\"{name} : \")\n",
    "    [print(\"{:.2f} \".format(n), end='') for n in stats_scores]\n",
    "    print()\n",
    "\n",
    "    # Update results\n",
    "    results['Método'].append(name)\n",
    "    results['Média'].append(stats_scores[0])\n",
    "    results['Desvio Padrão'].append(stats_scores[1])\n",
    "    results['Limite Inferior'].append(stats_scores[2])\n",
    "    results['Limite Superior'].append(stats_scores[3])"
   ],
   "metadata": {
    "collapsed": false,
    "pycharm": {
     "name": "#%%\n"
    }
   }
  },
  {
   "cell_type": "markdown",
   "source": [
    "### Save the statics of scores in a file"
   ],
   "metadata": {
    "collapsed": false,
    "pycharm": {
     "name": "#%% md\n"
    }
   }
  },
  {
   "cell_type": "code",
   "execution_count": 10,
   "outputs": [
    {
     "data": {
      "text/plain": "  Método     Média  Desvio Padrão  Limite Inferior  Limite Superior\n0     ZR  0.399346       0.024707         0.390505         0.408188\n1    GNB  0.973420       0.048205         0.956171         0.990670\n2    KNN  0.954793       0.055735         0.934849         0.974737\n3     DT  0.902941       0.064156         0.879984         0.925899\n4    KMC  0.966122       0.045286         0.949917         0.982327",
      "text/html": "<div>\n<style scoped>\n    .dataframe tbody tr th:only-of-type {\n        vertical-align: middle;\n    }\n\n    .dataframe tbody tr th {\n        vertical-align: top;\n    }\n\n    .dataframe thead th {\n        text-align: right;\n    }\n</style>\n<table border=\"1\" class=\"dataframe\">\n  <thead>\n    <tr style=\"text-align: right;\">\n      <th></th>\n      <th>Método</th>\n      <th>Média</th>\n      <th>Desvio Padrão</th>\n      <th>Limite Inferior</th>\n      <th>Limite Superior</th>\n    </tr>\n  </thead>\n  <tbody>\n    <tr>\n      <th>0</th>\n      <td>ZR</td>\n      <td>0.399346</td>\n      <td>0.024707</td>\n      <td>0.390505</td>\n      <td>0.408188</td>\n    </tr>\n    <tr>\n      <th>1</th>\n      <td>GNB</td>\n      <td>0.973420</td>\n      <td>0.048205</td>\n      <td>0.956171</td>\n      <td>0.990670</td>\n    </tr>\n    <tr>\n      <th>2</th>\n      <td>KNN</td>\n      <td>0.954793</td>\n      <td>0.055735</td>\n      <td>0.934849</td>\n      <td>0.974737</td>\n    </tr>\n    <tr>\n      <th>3</th>\n      <td>DT</td>\n      <td>0.902941</td>\n      <td>0.064156</td>\n      <td>0.879984</td>\n      <td>0.925899</td>\n    </tr>\n    <tr>\n      <th>4</th>\n      <td>KMC</td>\n      <td>0.966122</td>\n      <td>0.045286</td>\n      <td>0.949917</td>\n      <td>0.982327</td>\n    </tr>\n  </tbody>\n</table>\n</div>"
     },
     "execution_count": 10,
     "metadata": {},
     "output_type": "execute_result"
    }
   ],
   "source": [
    "df_results = pd.DataFrame(results)\n",
    "df_results.to_csv('./tables/results.csv', index=False, float_format='%.2f')\n",
    "df_results.head()"
   ],
   "metadata": {
    "collapsed": false,
    "pycharm": {
     "name": "#%%\n"
    }
   }
  },
  {
   "cell_type": "markdown",
   "source": [
    "### Hypothesis test"
   ],
   "metadata": {
    "collapsed": false,
    "pycharm": {
     "name": "#%% md\n"
    }
   }
  },
  {
   "cell_type": "code",
   "execution_count": 11,
   "outputs": [],
   "source": [
    "# Convert all scores into lists\n",
    "for key in all_scores.keys():\n",
    "    all_scores[key] = [t for t in list(all_scores[key])]"
   ],
   "metadata": {
    "collapsed": false,
    "pycharm": {
     "name": "#%%\n"
    }
   }
  },
  {
   "cell_type": "code",
   "execution_count": 12,
   "outputs": [
    {
     "name": "stderr",
     "output_type": "stream",
     "text": [
      "/home/igor/Desktop/RPDBCS/Vibenet/deeplearningenv/lib/python3.8/site-packages/scipy/stats/_morestats.py:3159: UserWarning: Sample size too small for normal approximation.\n",
      "  warnings.warn(\"Sample size too small for normal approximation.\")\n"
     ]
    }
   ],
   "source": [
    "from scipy.stats import ttest_rel, wilcoxon\n",
    "all_name_clf = [\n",
    "    'ZR',\n",
    "    'GNB',\n",
    "    'KNN',\n",
    "    'DT',\n",
    "    'KMC'\n",
    "]\n",
    "\n",
    "hip_test = []\n",
    "\n",
    "for i_clf_name in all_name_clf:\n",
    "    aux_test = []\n",
    "    tester = wilcoxon\n",
    "    for j_clf_name in all_name_clf:\n",
    "        if i_clf_name == j_clf_name:\n",
    "            # Change the test applied if enter into the superior triangular matrix\n",
    "            aux_test.append(i_clf_name)\n",
    "            tester = ttest_rel\n",
    "            continue\n",
    "        s, p = tester(all_scores[i_clf_name], all_scores[j_clf_name])\n",
    "        aux_test.append(p)\n",
    "    hip_test.append(aux_test)\n"
   ],
   "metadata": {
    "collapsed": false,
    "pycharm": {
     "name": "#%%\n"
    }
   }
  },
  {
   "cell_type": "markdown",
   "source": [
    "Save in a csv file"
   ],
   "metadata": {
    "collapsed": false,
    "pycharm": {
     "name": "#%% md\n"
    }
   }
  },
  {
   "cell_type": "code",
   "execution_count": 13,
   "outputs": [
    {
     "data": {
      "text/plain": "          0         1         2         3         4\n0        ZR       0.0       0.0       0.0       0.0\n1  0.000001       GNB  0.002293       0.0  0.264618\n2  0.000001  0.004509       KNN  0.000088  0.080042\n3  0.000002  0.000053  0.001519        DT  0.000002\n4  0.000001  0.417413  0.058782  0.000113       KMC",
      "text/html": "<div>\n<style scoped>\n    .dataframe tbody tr th:only-of-type {\n        vertical-align: middle;\n    }\n\n    .dataframe tbody tr th {\n        vertical-align: top;\n    }\n\n    .dataframe thead th {\n        text-align: right;\n    }\n</style>\n<table border=\"1\" class=\"dataframe\">\n  <thead>\n    <tr style=\"text-align: right;\">\n      <th></th>\n      <th>0</th>\n      <th>1</th>\n      <th>2</th>\n      <th>3</th>\n      <th>4</th>\n    </tr>\n  </thead>\n  <tbody>\n    <tr>\n      <th>0</th>\n      <td>ZR</td>\n      <td>0.0</td>\n      <td>0.0</td>\n      <td>0.0</td>\n      <td>0.0</td>\n    </tr>\n    <tr>\n      <th>1</th>\n      <td>0.000001</td>\n      <td>GNB</td>\n      <td>0.002293</td>\n      <td>0.0</td>\n      <td>0.264618</td>\n    </tr>\n    <tr>\n      <th>2</th>\n      <td>0.000001</td>\n      <td>0.004509</td>\n      <td>KNN</td>\n      <td>0.000088</td>\n      <td>0.080042</td>\n    </tr>\n    <tr>\n      <th>3</th>\n      <td>0.000002</td>\n      <td>0.000053</td>\n      <td>0.001519</td>\n      <td>DT</td>\n      <td>0.000002</td>\n    </tr>\n    <tr>\n      <th>4</th>\n      <td>0.000001</td>\n      <td>0.417413</td>\n      <td>0.058782</td>\n      <td>0.000113</td>\n      <td>KMC</td>\n    </tr>\n  </tbody>\n</table>\n</div>"
     },
     "execution_count": 13,
     "metadata": {},
     "output_type": "execute_result"
    }
   ],
   "source": [
    "hip_df = pd.DataFrame(data=hip_test)\n",
    "hip_df.to_csv('./tables/hypothesis_tests.csv', index=False, header=False, float_format='%.6f')\n",
    "hip_df.head()"
   ],
   "metadata": {
    "collapsed": false,
    "pycharm": {
     "name": "#%%\n"
    }
   }
  },
  {
   "cell_type": "markdown",
   "source": [
    "### Boxplot the results of each classifier"
   ],
   "metadata": {
    "collapsed": false
   }
  },
  {
   "cell_type": "code",
   "execution_count": 14,
   "outputs": [
    {
     "data": {
      "text/plain": "<Figure size 432x288 with 1 Axes>",
      "image/png": "[encoded data removed]"
     },
     "metadata": {},
     "output_type": "display_data"
    }
   ],
   "source": [
    "keys = all_scores.keys()\n",
    "vals = list(all_scores.values())\n",
    "# sns.boxplot(data=fix_data, whis=np.inf, width=.18)\n",
    "sns.boxplot(data=vals)\n",
    "plt.xticks(plt.xticks()[0], keys)\n",
    "plt.savefig('./images/boxplot.png')\n",
    "plt.show()"
   ],
   "metadata": {
    "collapsed": false,
    "pycharm": {
     "name": "#%%\n"
    }
   }
  }
 ],
 "metadata": {
  "kernelspec": {
   "name": "dplearning",
   "language": "python",
   "display_name": "dplearning"
  },
  "language_info": {
   "codemirror_mode": {
    "name": "ipython",
    "version": 2
   },
   "file_extension": ".py",
   "mimetype": "text/x-python",
   "name": "python",
   "nbconvert_exporter": "python",
   "pygments_lexer": "ipython2",
   "version": "2.7.6"
  }
 },
 "nbformat": 4,
 "nbformat_minor": 0
}